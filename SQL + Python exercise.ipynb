{
 "cells": [
  {
   "cell_type": "markdown",
   "metadata": {
    "ExecuteTime": {
     "end_time": "2018-02-02T02:37:21.595695Z",
     "start_time": "2018-02-02T02:37:21.584823Z"
    }
   },
   "source": [
    "# SQL Section\n",
    "\n",
    "In Figure 1 in the Appendix, you can see a depiction of the database described in the prompt\n",
    "above. It may be valuable to answering questions below. If you get stumped, please write out\n",
    "your thoughts. <br>\n",
    "<br>\n",
    "    <li> We have decided to expand our data model by adding a new Case Type table. Each case\n",
    "in Mighty has exactly one “Case Type” (such as Motor Vehicle Accident or Other).\n",
    "Assuming the only information on the Case Type table is the primary key and the name\n",
    "of the case type. Please add this table to Figure 1 in the appendix. You do not need to\n",
    "turn this in, but you will have to write queries using this new table below. </li>\n",
    "<br>\n",
    "    <li> Using the schema described by the diagram above and your addition, construct SQL\n",
    "queries to answer the following questions. Use whatever flavor of SQL you are\n",
    "comfortable with:</li>"
   ]
  },
  {
   "cell_type": "markdown",
   "metadata": {},
   "source": [
    "## Answers"
   ]
  },
  {
   "cell_type": "markdown",
   "metadata": {
    "ExecuteTime": {
     "end_time": "2018-02-02T02:38:00.871835Z",
     "start_time": "2018-02-02T02:38:00.850555Z"
    }
   },
   "source": [
    "\n",
    "I have decided to use MySQL <br>\n",
    "<br>\n",
    "<br>\n",
    "<li> <b>For each funding, return the funding_id and the agreement date.</b> </li>\n",
    "\n",
    "        SELECT id, agreement_date\n",
    "        FROM Fundings;\n",
    "        \n",
    "   <ul> <i>Selecting the id makes sure that we have all the entries. Selecting agreement_date completes the task.</i></ul>"
   ]
  },
  {
   "cell_type": "markdown",
   "metadata": {},
   "source": [
    "<li> <b> Show me all attorneys that do NOT have a phone_number. </b></li>\n",
    "        \n",
    "    \n",
    "        SELECT * FROM Attorney \n",
    "        WHERE phone_number IS NULL;\n",
    "        \n",
    "   <ul> <i>Since what information to display about the attorneys was not specified, I decided to display all of it.</i> </ul>\n",
    "\n"
   ]
  },
  {
   "cell_type": "markdown",
   "metadata": {},
   "source": [
    "<li> <b>What is the total amount advanced all time? </b></li>\n",
    "\n",
    "        SELECT SUM(advance_amount)\n",
    "        FROM Fundings;\n",
    "        \n",
    "   <ul> <i>Since we are looking for a total advanced amount, it is appropriate to use an aggregate function.</i></ul>"
   ]
  },
  {
   "cell_type": "markdown",
   "metadata": {},
   "source": [
    "<li> <b>For every case, return the attorney’s phone number and email.</b> </li>\n",
    "\n",
    "        SELECT Attorney.phone_number, Attorney.email\n",
    "        FROM Attorney\n",
    "        LEFT JOIN Cases ON Attorney.id = Cases.attorney_id;\n",
    "        \n",
    "   <ul> <i>Since the table that contains the information we need is down the schema, a left join is appropriate. The join was performed on the id in both Attorney and Cases tables.</i></ul>"
   ]
  },
  {
   "cell_type": "markdown",
   "metadata": {},
   "source": [
    "<li> <b>For every case, return the total amount funded. </b></li>\n",
    "       \n",
    "        SELECT Cases.id, SUM(advance_amount)\n",
    "        FROM Fundings\n",
    "        RIGHT JOIN Cases ON Fundings.case_id = Cases.id\n",
    "        GROUP BY Fundings.case_id;\n",
    "    \n",
    "   <ul> <i> Since the Fundings table is upstream, it's appropriate to use the right join. GROUP BY the case_id in the Fundings table ensures that we have a set of distinct cases, and the aggregate function SUM ensures that we get the total amounts for those cases. </i></ul>"
   ]
  },
  {
   "cell_type": "markdown",
   "metadata": {},
   "source": [
    "<li> <b>Return all cases that have attorney name is exactly “Sal Goodman”. </b> </li>\n",
    "\n",
    "        SELECT *\n",
    "        FROM Cases\n",
    "        LEFT JOIN Cases ON Attorney.id = Cases.attorney_id\n",
    "        WHERE Attorney.full_name = ‘Sal Goodman’;\n",
    "        \n",
    "  <ul> <i> Since I was not given which information to display about the cases, I chose to display everything. The statement WHERE ensures that the string 'Sal Goodman' is matched exactly. </i> </ul>"
   ]
  },
  {
   "cell_type": "markdown",
   "metadata": {},
   "source": [
    "<li> <b>Return all case types, sorted alphabetically by name.</b></li>\n",
    "\n",
    "        SELECT DISTINCT case_type\n",
    "        FROM CaseType\n",
    "        ORDER BY case_type;\n",
    "        \n",
    "  <ul> <i> DISTINCT ensures that every case type displayed is unique, and ORDER BY sorts case types alphabetically.</i></ul>"
   ]
  },
  {
   "cell_type": "markdown",
   "metadata": {},
   "source": [
    "<li> <b>Return all case types with the name of the case type and the number of cases of that type, each in its own row, without duplicates.</b></li>\n",
    "\n",
    "        SELECT DISTINCT case_type, COUNT(DISTINCT case_type)\n",
    "        FROM CaseType;\n",
    "   <ul> <i>From the table CaseType select unique case_types and COUNT those DISTINCT case_types for display.</i></ul>"
   ]
  },
  {
   "cell_type": "markdown",
   "metadata": {
    "ExecuteTime": {
     "end_time": "2018-02-02T02:45:58.221936Z",
     "start_time": "2018-02-02T02:45:58.213529Z"
    }
   },
   "source": [
    "<li> <b>Rank the case types by the most frequent (most number of cases) to the least frequent with the number of cases of each type.</b></li>\n",
    "\n",
    "        SELECT DISTINCT case_type, COUNT(DISTINCT case_type)\n",
    "        FROM CaseType\n",
    "        ORDER BY COUNT(DISTINCT case_type) ASC;\n",
    "        \n",
    "  <ul><i> Same as before, but ORDER BY ... ASC makes sure that the counts of the unique case types are ordered in ascending order.</i></ul>"
   ]
  },
  {
   "cell_type": "markdown",
   "metadata": {},
   "source": [
    "## Social Security Number Cleaning\n",
    "\n",
    "When migrating client data, we often have to clean the data before inputting it into our\n",
    "database. In this example, we are attempting to clean social security numbers (“SSN”s). We\n",
    "have included a number of test cases your function should pass in the appendix below, but\n",
    "please ensure the function meets the following conditions:\n",
    "1. You should not use an existing library designed for this purpose.\n",
    "2. The function should be written to clean one SSN at a time, assuming both input and output values are strings. If passed in an empty string, return an empty string.\n",
    "3. The database expects that there are 11 characters in outputted SSN string in “XXX-XX-XXXX” format, where X is a integer 0-9.\n",
    "4. Sometimes, input data can have only a few digits of a social security number OR too many digits.\n",
    "      <ul> a. By convention, if the number of digits provided is less than 9, we add zeros in the front until they have 9 integers in the string (see Figure 2, row #1).\n",
    "       b. By convention, if there are more than 9 integers provided, we assume the first 9 are the SSN (see Figure 2, row #3).</ul>\n",
    "5. Hint: You do NOT have to use regular expressions."
   ]
  },
  {
   "cell_type": "code",
   "execution_count": 1,
   "metadata": {
    "ExecuteTime": {
     "end_time": "2018-02-02T01:22:35.247588Z",
     "start_time": "2018-02-02T01:22:34.610448Z"
    },
    "collapsed": true
   },
   "outputs": [],
   "source": [
    "'''\n",
    "\n",
    "Import statements.\n",
    "\n",
    "'''\n",
    "\n",
    "import pandas as pd\n",
    "from numpy import nan as Nan"
   ]
  },
  {
   "cell_type": "code",
   "execution_count": 2,
   "metadata": {
    "ExecuteTime": {
     "end_time": "2018-02-02T01:22:35.296985Z",
     "start_time": "2018-02-02T01:22:35.251773Z"
    }
   },
   "outputs": [
    {
     "data": {
      "text/html": [
       "<div>\n",
       "<style>\n",
       "    .dataframe thead tr:only-child th {\n",
       "        text-align: right;\n",
       "    }\n",
       "\n",
       "    .dataframe thead th {\n",
       "        text-align: left;\n",
       "    }\n",
       "\n",
       "    .dataframe tbody tr th {\n",
       "        vertical-align: top;\n",
       "    }\n",
       "</style>\n",
       "<table border=\"1\" class=\"dataframe\">\n",
       "  <thead>\n",
       "    <tr style=\"text-align: right;\">\n",
       "      <th></th>\n",
       "      <th>Input Value</th>\n",
       "      <th>Expected Output</th>\n",
       "    </tr>\n",
       "  </thead>\n",
       "  <tbody>\n",
       "    <tr>\n",
       "      <th>0</th>\n",
       "      <td>9876</td>\n",
       "      <td>000-00-9876</td>\n",
       "    </tr>\n",
       "    <tr>\n",
       "      <th>1</th>\n",
       "      <td>987654321</td>\n",
       "      <td>987-65-4321</td>\n",
       "    </tr>\n",
       "    <tr>\n",
       "      <th>2</th>\n",
       "      <td>1234567891</td>\n",
       "      <td>123-45-6789</td>\n",
       "    </tr>\n",
       "    <tr>\n",
       "      <th>3</th>\n",
       "      <td>789526345 -- client ssn</td>\n",
       "      <td>789-52-6345</td>\n",
       "    </tr>\n",
       "    <tr>\n",
       "      <th>4</th>\n",
       "      <td>XXX-12-3456</td>\n",
       "      <td>000-12-3456</td>\n",
       "    </tr>\n",
       "    <tr>\n",
       "      <th>5</th>\n",
       "      <td>123-45-6789</td>\n",
       "      <td>123-45-6789</td>\n",
       "    </tr>\n",
       "    <tr>\n",
       "      <th>6</th>\n",
       "      <td>NaN</td>\n",
       "      <td>NaN</td>\n",
       "    </tr>\n",
       "  </tbody>\n",
       "</table>\n",
       "</div>"
      ],
      "text/plain": [
       "               Input Value Expected Output\n",
       "0                     9876     000-00-9876\n",
       "1                987654321     987-65-4321\n",
       "2               1234567891     123-45-6789\n",
       "3  789526345 -- client ssn     789-52-6345\n",
       "4              XXX-12-3456     000-12-3456\n",
       "5              123-45-6789     123-45-6789\n",
       "6                      NaN             NaN"
      ]
     },
     "execution_count": 2,
     "metadata": {},
     "output_type": "execute_result"
    }
   ],
   "source": [
    "'''\n",
    "\n",
    "Get the dataframe with test cases.\n",
    "\n",
    "'''\n",
    "\n",
    "# get values\n",
    "values = [\n",
    "            ('9876', '000-00-9876'),\n",
    "            ('987654321', '987-65-4321'),\n",
    "            ('1234567891', '123-45-6789'),\n",
    "            ('789526345 -- client ssn', '789-52-6345'),\n",
    "            ('XXX-12-3456', '000-12-3456'),\n",
    "            ('123-45-6789', '123-45-6789') # add a regular-shaped SSN \n",
    "            \n",
    "]\n",
    "\n",
    "# instantiate the dataframe\n",
    "df = pd.DataFrame(values, columns = ['Input Value', 'Expected Output'])\n",
    "\n",
    "# add the empty strings to dataframe\n",
    "s2 = pd.Series([Nan,Nan], index = ['Input Value', 'Expected Output'])\n",
    "df = df.append(s2, ignore_index = True)\n",
    "\n",
    "df"
   ]
  },
  {
   "cell_type": "code",
   "execution_count": 3,
   "metadata": {
    "ExecuteTime": {
     "end_time": "2018-02-02T01:22:35.321503Z",
     "start_time": "2018-02-02T01:22:35.300353Z"
    },
    "collapsed": true
   },
   "outputs": [],
   "source": [
    "'''\n",
    "\n",
    "Define helper functions.\n",
    "\n",
    "'''\n",
    "\n",
    "# split to keep words only and take only the first entry\n",
    "\n",
    "def get_number(string):\n",
    "    \n",
    "    return string.split()[0] # split at whitespace and grab just the number\n",
    "\n",
    "# replace X's with 0s\n",
    "\n",
    "def replace_x(string):\n",
    "    \n",
    "        return string.replace(\"X\", \"0\")\n",
    "    \n",
    "# if the string is convertable to a float, leave only the first 9 digits\n",
    "\n",
    "def nine_digits(string):\n",
    "    \n",
    "    if string.isdigit(): # if the string is just a number, \n",
    "        \n",
    "        string = string[:9] # grab the first nine digits\n",
    "        \n",
    "    return string\n",
    "\n",
    "# append 0's where string is shorter than 9 digits\n",
    "\n",
    "def get_0s(string):\n",
    "    \n",
    "    if len(string) < 9: # if there are not enough digits\n",
    "        \n",
    "        to_add = 9 - len(string) # determine how many are missing\n",
    "        \n",
    "        string = '0' * to_add + string # add the required number to string\n",
    "    \n",
    "    return string\n",
    "\n",
    "# add dashes between the digits\n",
    "\n",
    "def get_dashes(string):\n",
    "    \n",
    "    if len(string) == 9: # if the string is clean\n",
    "    \n",
    "        string = '-'.join([string[:3], string[3:5], string[5:]]) # add the dashes\n",
    "    \n",
    "    return string"
   ]
  },
  {
   "cell_type": "code",
   "execution_count": 4,
   "metadata": {
    "ExecuteTime": {
     "end_time": "2018-02-02T01:22:35.340771Z",
     "start_time": "2018-02-02T01:22:35.328235Z"
    },
    "collapsed": true
   },
   "outputs": [],
   "source": [
    "'''\n",
    "\n",
    "Final function to bring everything together.\n",
    "\n",
    "'''\n",
    "\n",
    "def clean_ssn(string):\n",
    "    \n",
    "    if type(string) == str: # if the string is not empty, apply helper functions.\n",
    "        \n",
    "        string = get_number(string)\n",
    "        string = replace_x(string)\n",
    "        string = nine_digits(string)\n",
    "        string = get_0s(string)\n",
    "        string = get_dashes(string)\n",
    "        \n",
    "        return string\n",
    "    \n",
    "    else: # if the string is empty, return empty.\n",
    "        \n",
    "        return string"
   ]
  },
  {
   "cell_type": "code",
   "execution_count": 5,
   "metadata": {
    "ExecuteTime": {
     "end_time": "2018-02-02T01:22:35.356960Z",
     "start_time": "2018-02-02T01:22:35.348537Z"
    }
   },
   "outputs": [
    {
     "data": {
      "text/plain": [
       "0    000-00-9876\n",
       "1    987-65-4321\n",
       "2    123-45-6789\n",
       "3    789-52-6345\n",
       "4    000-12-3456\n",
       "5    123-45-6789\n",
       "6            NaN\n",
       "Name: Input Value, dtype: object"
      ]
     },
     "execution_count": 5,
     "metadata": {},
     "output_type": "execute_result"
    }
   ],
   "source": [
    "'''\n",
    "\n",
    "Test the function on the DataFrame.\n",
    "\n",
    "'''\n",
    "\n",
    "df['Input Value'].apply(lambda x: clean_ssn(x))"
   ]
  }
 ],
 "metadata": {
  "kernelspec": {
   "display_name": "Python 2",
   "language": "python",
   "name": "python2"
  },
  "language_info": {
   "codemirror_mode": {
    "name": "ipython",
    "version": 2
   },
   "file_extension": ".py",
   "mimetype": "text/x-python",
   "name": "python",
   "nbconvert_exporter": "python",
   "pygments_lexer": "ipython2",
   "version": "2.7.14"
  },
  "varInspector": {
   "cols": {
    "lenName": 16,
    "lenType": 16,
    "lenVar": 40
   },
   "kernels_config": {
    "python": {
     "delete_cmd_postfix": "",
     "delete_cmd_prefix": "del ",
     "library": "var_list.py",
     "varRefreshCmd": "print(var_dic_list())"
    },
    "r": {
     "delete_cmd_postfix": ") ",
     "delete_cmd_prefix": "rm(",
     "library": "var_list.r",
     "varRefreshCmd": "cat(var_dic_list()) "
    }
   },
   "types_to_exclude": [
    "module",
    "function",
    "builtin_function_or_method",
    "instance",
    "_Feature"
   ],
   "window_display": false
  }
 },
 "nbformat": 4,
 "nbformat_minor": 2
}
